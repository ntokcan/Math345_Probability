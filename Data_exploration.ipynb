{
 "cells": [
  {
   "cell_type": "code",
   "execution_count": 1,
   "id": "4c6e6c67-41b7-429d-abee-1786dce2e9aa",
   "metadata": {},
   "outputs": [],
   "source": [
    "import os\n",
    "import math\n",

    "import pandas as pd\n",
    "import numpy as np\n",
    "import sys\n",
    "from IPython.display import display\n",
    "import seaborn as sns\n",
    "#import statsmodels.formula.api as smf\n",
    "import matplotlib.pyplot as plt"
   ]
  },
  {
   "cell_type": "markdown",
   "id": "07e1f5dc-fd8d-4976-bf23-97ca1c384beb",
   "metadata": {},
   "source": [
    "### <font color='red'> Data Exploration and Relative frequency histogram"
   ]
  },
  {
   "cell_type": "markdown",
   "id": "cd6414b7-ceb3-482e-8a5c-bb884d318cf4",
   "metadata": {},
   "source": [
    "**Example:** Of great importance to residents of central Florida is the amount of radioactive material present in the soil of reclaimed phosphate mining areas. Measurements of the amount of Uranium-238 in 25 soil samples were as follows \n",
    "(measurements in picocuries per gram): [.74,.32, 1.66, 3.59, 4.55,6.47, 1.90, 2.69, .75, 9.99,  1.77, 2.41, 1.96, .70, 2.42, .54, 3.36, .37, 1.09,8.32, 4.06,\n",
    " .76, 2.03, 5.70, 12.48]"
   ]
  },
  {
   "cell_type": "markdown",
   "id": "129ec854-5a10-490c-8fff-c0d80e3b2263",
   "metadata": {},
   "source": [
    "**First lets put our data here** "
   ]
  },
  {
   "cell_type": "code",
   "execution_count": 4,
   "id": "682b26f5-da73-4a55-8e00-2e6d1199b3ce",
   "metadata": {},
   "outputs": [],
   "source": [
    "frequencies=[.74,.32, 1.66, 3.59, 4.55,6.47, 1.90, 2.69, .75, 9.99,  1.77, 2.41, 1.96, .70, 2.42, .54, 3.36, .37, 1.09,8.32, 4.06,\n",
    " .76, 2.03, 5.70, 12.48]"
   ]
  },
  {
   "cell_type": "markdown",
   "id": "6a271b81-7ebc-41bc-8251-83dec5b3149f",
   "metadata": {},
   "source": [
    "**Lets print the frequencies**"
   ]
  },
  {
   "cell_type": "code",
   "execution_count": 5,
   "id": "ad67b952-1bbe-433d-b9e4-f3f5a2ee9adb",
   "metadata": {},
   "outputs": [
    {
     "name": "stdout",
     "output_type": "stream",
     "text": [
      "[0.74, 0.32, 1.66, 3.59, 4.55, 6.47, 1.9, 2.69, 0.75, 9.99, 1.77, 2.41, 1.96, 0.7, 2.42, 0.54, 3.36, 0.37, 1.09, 8.32, 4.06, 0.76, 2.03, 5.7, 12.48]\n"
     ]
    }
   ],
   "source": [
    "print(frequencies)"
   ]
  },
  {
   "cell_type": "markdown",
   "id": "82aee6f4-4655-4287-82b3-ed0c8d98485e",
   "metadata": {},
   "source": [
    "**How many data points we have?**\n",
    "-length(size) of the data"
   ]
  },
  {
   "cell_type": "code",
   "execution_count": 6,
   "id": "fa756816-ca4f-4e9d-87bd-6b40461242ea",
   "metadata": {},
   "outputs": [
    {
     "data": {
      "text/plain": [
       "25"
      ]
     },
     "execution_count": 6,
     "metadata": {},
     "output_type": "execute_result"
    }
   ],
   "source": [
    "length_of_frequencies=len(frequencies)\n",
    "length_of_frequencies"
   ]
  },
  {
   "cell_type": "markdown",
   "id": "0ffbd515-5e20-4f3c-b52a-4ee43ce2871e",
   "metadata": {},
   "source": [
    "**Lets first sort the numbers and explore the data!**"
   ]
  },
  {
   "cell_type": "code",
   "execution_count": 7,
   "id": "3120768f-5649-445a-a3e4-951e29daff02",
   "metadata": {},
   "outputs": [
    {
     "data": {
      "text/plain": [
       "array([ 0.32,  0.37,  0.54,  0.7 ,  0.74,  0.75,  0.76,  1.09,  1.66,\n",
       "        1.77,  1.9 ,  1.96,  2.03,  2.41,  2.42,  2.69,  3.36,  3.59,\n",
       "        4.06,  4.55,  5.7 ,  6.47,  8.32,  9.99, 12.48])"
      ]
     },
     "execution_count": 7,
     "metadata": {},
     "output_type": "execute_result"
    }
   ],
   "source": [
    "sorted_frequencies=np.sort(frequencies)\n",
    "sorted_frequencies"
   ]
  },
  {
   "cell_type": "markdown",
   "id": "0cf7672f-6fc7-4a6b-a068-ba9f68ef7c37",
   "metadata": {},
   "source": [
    "Here it is easy to see the minimum value and maximum value. \\\n",
    "Since the list has 25 items, the median is the (25+1)/2=13th item in the list"
   ]
  },
  {
   "cell_type": "markdown",
   "id": "5afa2b03-3e63-4564-b166-7ee00b99e4e3",
   "metadata": {},
   "source": [
    "**Min,median,maximum**"
   ]
  },
  {
   "cell_type": "code",
   "execution_count": 8,
   "id": "be6c5940-41ee-4288-90df-636c09727954",
   "metadata": {},
   "outputs": [
    {
     "name": "stdout",
     "output_type": "stream",
     "text": [
      "minimum value is 0.32\n",
      "median value is 2.03\n",
      "maximum value is 12.48\n"
     ]
    }
   ],
   "source": [
    "minimum=sorted_frequencies[0] #first entry (In python, first index of an array is 0; so index of first item becomes 0) \n",
    "maximum=sorted_frequencies[-1] #Here we look at the last entry\n",
    "median=sorted_frequencies[13-1]#Since the first index is 0, index for the 13th item would be 12\n",
    "print(\"minimum value is\", minimum)\n",
    "print(\"median value is\", median)\n",
    "print(\"maximum value is\", maximum)"
   ]
  },
  {
   "cell_type": "markdown",
   "id": "37551301-bdc3-4a27-99d7-29626cf1b3c7",
   "metadata": {},
   "source": [
    "**Lets double check the results.** "
   ]
  },
  {
   "cell_type": "code",
   "execution_count": 9,
   "id": "fa1f8079-d698-458f-bda3-72f62d467892",
   "metadata": {},
   "outputs": [
    {
     "data": {
      "text/plain": [
       "(0.32, 2.03, 12.48)"
      ]
     },
     "execution_count": 9,
     "metadata": {},
     "output_type": "execute_result"
    }
   ],
   "source": [
    "np.min(frequencies), np.median(frequencies), np.max(frequencies)"
   ]
  },
  {
   "cell_type": "markdown",
   "id": "fb657d19-5fa9-4d30-8a74-1189022d0897",
   "metadata": {},
   "source": [
    "**Mean(average)**"
   ]
  },
  {
   "cell_type": "markdown",
   "id": "3cb139ee-f7fb-4d2f-ae96-c0362e7d861b",
   "metadata": {},
   "source": [
    "Mean is the sum of points divided by number of points in the list. Lets calculate it!"
   ]
  },
  {
   "cell_type": "code",
   "execution_count": 10,
   "id": "7b264f5a-98fb-4d55-8181-b6e91eac30d7",
   "metadata": {},
   "outputs": [
    {
     "data": {
      "text/plain": [
       "80.63000000000001"
      ]
     },
     "execution_count": 10,
     "metadata": {},
     "output_type": "execute_result"
    }
   ],
   "source": [
    "sum_of_frequencies=np.sum(frequencies)\n",
    "sum_of_frequencies"
   ]
  },
  {
   "cell_type": "code",
   "execution_count": 11,
   "id": "a4a43a60-8355-4b0b-88be-8bedead34803",
   "metadata": {},
   "outputs": [
    {
     "data": {
      "text/plain": [
       "3.2252000000000005"
      ]
     },
     "execution_count": 11,
     "metadata": {},
     "output_type": "execute_result"
    }
   ],
   "source": [
    "mean=sum_of_frequencies/ length_of_frequencies\n",
    "mean"
   ]
  },
  {
   "cell_type": "markdown",
   "id": "da92d932-aee2-4396-90c9-364169d2b662",
   "metadata": {},
   "source": [
    "Lets double check!"
   ]
  },
  {
   "cell_type": "code",
   "execution_count": 32,
   "id": "13f2bf88-8a3c-46da-a22a-8b74294a82a3",
   "metadata": {},
   "outputs": [
    {
     "data": {
      "text/plain": [
       "3.2252000000000005"
      ]
     },
     "execution_count": 32,
     "metadata": {},
     "output_type": "execute_result"
    }
   ],
   "source": [
    "np.mean(frequencies)"
   ]
  },
  {
   "cell_type": "markdown",
   "id": "56413ae3-ca0b-4090-86b4-d921edd2e82c",
   "metadata": {},
   "source": [
    "### Histogram"
   ]
  },
  {
   "cell_type": "code",
   "execution_count": 12,
   "id": "6d0ba1fb-fd23-43fb-a963-64124307f967",
   "metadata": {},
   "outputs": [
    {
     "data": {
      "text/plain": [
       "array([ 0.32,  0.37,  0.54,  0.7 ,  0.74,  0.75,  0.76,  1.09,  1.66,\n",
       "        1.77,  1.9 ,  1.96,  2.03,  2.41,  2.42,  2.69,  3.36,  3.59,\n",
       "        4.06,  4.55,  5.7 ,  6.47,  8.32,  9.99, 12.48])"
      ]
     },
     "execution_count": 12,
     "metadata": {},
     "output_type": "execute_result"
    }
   ],
   "source": [
    "sorted_frequencies"
   ]
  },
  {
   "cell_type": "markdown",
   "id": "ea9fda51-298e-423e-8cfc-3be68ab0a79b",
   "metadata": {},
   "source": [
    "Frequencies are between 0 and 12. We can put them into groups. Here we may form groups in the different way. I will follow the following approach. Lets get 13 bins of equal width. Then width=(maximum -minimum)/13"
   ]
  },
  {
   "cell_type": "code",
   "execution_count": 63,
   "id": "71c72ea0-c9eb-4919-8998-967aa30bcbb1",
   "metadata": {},
   "outputs": [
    {
     "data": {
      "text/plain": [
       "0.9353846153846154"
      ]
     },
     "execution_count": 63,
     "metadata": {},
     "output_type": "execute_result"
    }
   ],
   "source": [
    "Bin_width=(maximum-minimum)/13\n",
    "Bin_width"
   ]
  },
  {
   "cell_type": "code",
   "execution_count": 67,
   "id": "54c8825a-75d1-4992-9f67-7d87b2abd1d9",
   "metadata": {},
   "outputs": [
    {
     "name": "stdout",
     "output_type": "stream",
     "text": [
      "[0.32, 0.37, 0.54, 0.7, 0.74, 0.75, 0.76, 1.09]\n",
      "Frequency of Group 1 is 8\n",
      "Relative frequency of Group 1 is 0.32\n"
     ]
    }
   ],
   "source": [
    "Group1=[x for x in sorted_frequencies if minimum<=x < minimum+Bin_width]\n",
    "print(Group1)\n",
    "print(\"Frequency of Group 1 is\", len(Group1))\n",
    "print(\"Relative frequency of Group 1 is\", len(Group1)/ len(frequencies))"
   ]
  },
  {
   "cell_type": "code",
   "execution_count": 68,
   "id": "04b69b9a-3c30-4a1c-b798-9d1d07dc2155",
   "metadata": {},
   "outputs": [
    {
     "name": "stdout",
     "output_type": "stream",
     "text": [
      "[1.66, 1.77, 1.9, 1.96, 2.03]\n",
      "Frequency of Group 2 is 5\n",
      "Relative frequency of Group 2 is 0.2\n"
     ]
    }
   ],
   "source": [
    "Group2=[x for x in sorted_frequencies if minimum+Bin_width<=x<minimum+2*Bin_width]\n",
    "print(Group2)\n",
    "print(\"Frequency of Group 2 is\", len(Group2))\n",
    "print(\"Relative frequency of Group 2 is\", len(Group2)/ len(frequencies))"
   ]
  },
  {
   "cell_type": "code",
   "execution_count": 93,
   "id": "92b6e60d-b07b-4dcf-a014-8cde94d399f9",
   "metadata": {},
   "outputs": [
    {
     "name": "stdout",
     "output_type": "stream",
     "text": [
      "[12.48]\n",
      "Frequency of Group 13 is 1\n",
      "Relative frequency of Group 13 is 0.04\n"
     ]
    }
   ],
   "source": [
    "Group13=[x for x in sorted_frequencies if minimum+12*Bin_width<=x<=minimum+13*Bin_width]\n",
    "print(Group13)\n",
    "print(\"Frequency of Group 13 is\", len(Group13))\n",
    "print(\"Relative frequency of Group 13 is\", len(Group13)/ len(frequencies))"
   ]
  },
  {
   "cell_type": "markdown",
   "id": "7a07d71f-d72d-45be-a869-d2b5171f18d0",
   "metadata": {},
   "source": [
    "**Frequency histogram**"
   ]
  },
  {
   "cell_type": "code",
   "execution_count": 88,
   "id": "6eb14c02-e32a-4ab6-9b89-72626df4049a",
   "metadata": {},
   "outputs": [
    {
     "data": {
      "image/png": "[encoded data removed]",
      "text/plain": [
       "<Figure size 432x288 with 1 Axes>"
      ]
     },
     "metadata": {
      "needs_background": "light"
     },
     "output_type": "display_data"
    }
   ],
   "source": [
    "fig = plt.figure()\n",
    "ax = fig.add_subplot(111)\n",
    "ax.hist(frequencies, edgecolor='black',bins=13)\n",
    "ax.set_xlabel('Bins', size=15)\n",
    "ax.set_ylabel('Frequency', size=15)\n",
    "plt.show()"
   ]
  },
  {
   "cell_type": "markdown",
   "id": "4859cbbe-31ed-42c2-9094-a2505f699bbf",
   "metadata": {},
   "source": [
    "**Relative frequency histogram**"
   ]
  },
  {
   "cell_type": "code",
   "execution_count": 90,
   "id": "bb240e39-c85f-4f13-a8f9-17e3c1339794",
   "metadata": {},
   "outputs": [
    {
     "data": {
      "image/png": "[encoded data removed]",
      "text/plain": [
       "<Figure size 432x288 with 1 Axes>"
      ]
     },
     "metadata": {
      "needs_background": "light"
     },
     "output_type": "display_data"
    }
   ],
   "source": [
    "fig = plt.figure()\n",
    "ax = fig.add_subplot(111)\n",
    "ax.hist(frequencies, edgecolor='black',bins=13,weights=np.ones_like(frequencies) / len(frequencies))\n",
    "ax.set_xlabel('Bins', size=15)\n",
    "ax.set_ylabel('Relative frequency', size=15)\n",
    "plt.show()\n"
   ]
  },
  {
   "cell_type": "markdown",
   "id": "7f2c166f-085e-4d12-a6d0-73149fcacc6d",
   "metadata": {},
   "source": [
    "#### Mean and Variance"
   ]
  },
  {
   "cell_type": "markdown",
   "id": "78ac280d-6195-4713-a2b7-3ec9027bf4e1",
   "metadata": {},
   "source": [
    "**Example: Are some cities more windy than others? Does Chicago deserve to be nicknamed “The Windy City”? Given below are the average wind speeds (in miles per hour) for 45 selected U.S. cities:\n",
    "[8.9, 12.4, 7.1, 11.8, 9.1, 10.9, 8.8, 12.7,10.2, 10.3,8.6, 11.3, 9.2, 10.7, 7.6, 9.1, 10.3, 9.6, 7.8,8.4, 7.8, 5.7, 7.7, 10.6, 8.3,\n",
    "8.8, 35.1,9.2, 8.2, 11.5, 9.3, 10.5,10.5,8.8, 9.5,6.2, 7.0, 9.0, 8.7, 7.9, 8.8, 9.6, 8.9, 8.8, 9.4]"
   ]
  },
  {
   "cell_type": "code",
   "execution_count": 134,
   "id": "94850de6-ba4b-4002-8569-a4ccd510e917",
   "metadata": {},
   "outputs": [],
   "source": [
    "speeds=[8.9, 12.4, 7.1, 11.8, 9.1, 10.9, 8.8, 12.7,10.2, 10.3,8.6, 11.3, 9.2, 10.7, 7.6, 9.1, 10.3, 9.6, 7.8,8.4, 7.8, 5.7, 7.7, 10.6, 8.3, 8.8, 35.1,9.2, 8.2, 11.5, 9.3, 10.5,10.5,8.8, 9.5,6.2, 7.0, 9.0, 8.7, 7.9, 8.8, 9.6, 8.9, 8.8, 9.4]"
   ]
  },
  {
   "cell_type": "code",
   "execution_count": 135,
   "id": "dd527b27-e275-4559-b91d-2e379cc64bf3",
   "metadata": {},
   "outputs": [
    {
     "data": {
      "text/plain": [
       "45"
      ]
     },
     "execution_count": 135,
     "metadata": {},
     "output_type": "execute_result"
    }
   ],
   "source": [
    "len(speeds)"
   ]
  },
  {
   "cell_type": "code",
   "execution_count": 136,
   "id": "378dc524-3c8f-49e5-ab15-9eb9c92f1625",
   "metadata": {},
   "outputs": [
    {
     "data": {
      "text/plain": [
       "9.791111111111112"
      ]
     },
     "execution_count": 136,
     "metadata": {},
     "output_type": "execute_result"
    }
   ],
   "source": [
    "Mean_speeds=np.sum(speeds)/ len(speeds)\n",
    "Mean_speeds"
   ]
  },
  {
   "cell_type": "code",
   "execution_count": 137,
   "id": "d59d8216-afae-44c2-a1a0-0f4972ca1e1c",
   "metadata": {},
   "outputs": [
    {
     "data": {
      "text/plain": [
       "9.791111111111112"
      ]
     },
     "execution_count": 137,
     "metadata": {},
     "output_type": "execute_result"
    }
   ],
   "source": [
    "np.mean(speeds)"
   ]
  },
  {
   "cell_type": "markdown",
   "id": "8d67d6ae-ae98-4722-9fa4-e95f1478bd71",
   "metadata": {},
   "source": [
    "Remember the standard deviation formula\n",
    "$\\sqrt{\\frac{\\sum_{i=1}^{45}(x_i- \\overline{x})^2}{N}}$ where x1, x2,.. are points in the data, $\\overline{x}$ is the mean, and N is the\n",
    "size(length) of data.\n",
    "\n",
    " $\\overline{x}=9.79$ and $N=45.$"
   ]
  },
  {
   "cell_type": "markdown",
   "id": "ab0cfa25-742e-4a7e-a150-a76cebb3f9ed",
   "metadata": {},
   "source": [
    "Lets do it step by step!\\\n",
    "**Step1:** Lets first find the points $[(x_1- \\overline{x})^2,(x_2- \\overline{x})^2,..., (x_{45}- \\overline{x})^2 ]$"
   ]
  },
  {
   "cell_type": "code",
   "execution_count": 138,
   "id": "c2de5c6c-f4f6-4a50-a0f5-b56684ef1c34",
   "metadata": {},
   "outputs": [
    {
     "name": "stdout",
     "output_type": "stream",
     "text": [
      "[0.7940790123456803, 6.806301234567897, 7.242079012345687, 4.035634567901233, 0.4776345679012366, 1.2296345679012328, 0.982301234567902, 8.461634567901225, 0.16719012345678866, 0.25896790123456753, 1.4187456790123492, 2.2767456790123446, 0.34941234567901447, 0.8260790123456757, 4.800967901234574, 0.4776345679012366, 0.25896790123456753, 0.03652345679012401, 3.9645234567901286, 1.935190123456792, 3.9645234567901286, 16.7371901234568, 4.37274567901235, 0.6543012345678989, 2.2234123456790136, 0.982301234567902, 640.5398567901234, 0.34941234567901447, 2.53163456790124, 2.9203012345678974, 0.2411901234567905, 0.5025234567901219, 0.5025234567901219, 0.982301234567902, 0.08474567901234632, 12.896079012345686, 7.790301234567908, 0.6258567901234585, 1.1905234567901275, 3.576301234567904, 0.982301234567902, 0.03652345679012401, 0.7940790123456803, 0.982301234567902, 0.1529679012345685]\n"
     ]
    }
   ],
   "source": [
    "Squared_distances_from_mean=[(x- Mean_speeds)**2 for x in speeds] \n",
    "print(Squared_distances_from_mean)"
   ]
  },
  {
   "cell_type": "markdown",
   "id": "0c9427c3-e285-4938-bf08-bafd98f4e157",
   "metadata": {},
   "source": [
    "**Step2:** Find the sum of the squared distances. \n",
    "$\\sum_{i=1}^{45}(x_i- \\overline{x})^2$\n"
   ]
  },
  {
   "cell_type": "code",
   "execution_count": 139,
   "id": "1eb96d4e-f125-4565-9bb1-6de2819c014f",
   "metadata": {},
   "outputs": [
    {
     "data": {
      "text/plain": [
       "753.4164444444446"
      ]
     },
     "execution_count": 139,
     "metadata": {},
     "output_type": "execute_result"
    }
   ],
   "source": [
    "Sum=np.sum(Squared_distances_from_mean)\n",
    "Sum"
   ]
  },
  {
   "cell_type": "markdown",
   "id": "d05ca47d-7c88-4303-918a-776ae338e798",
   "metadata": {},
   "source": [
    "**Step2:** Divide it by number of elements\n",
    "$\\frac{\\sum_{i=1}^{45}(x_i- \\overline{x})^2}{45}$"
   ]
  },
  {
   "cell_type": "code",
   "execution_count": 140,
   "id": "2ec45bd2-8afe-4d97-b57e-e3f58bdc175e",
   "metadata": {},
   "outputs": [
    {
     "data": {
      "text/plain": [
       "16.74258765432099"
      ]
     },
     "execution_count": 140,
     "metadata": {},
     "output_type": "execute_result"
    }
   ],
   "source": [
    "Average_Sum=Sum/45\n",
    "Average_Sum"
   ]
  },
  {
   "cell_type": "markdown",
   "id": "45d633e5-9b76-444e-9cd4-d029a790807d",
   "metadata": {},
   "source": [
    "**Step3:** Take the square root. \n",
    "$\\sqrt{\\frac{\\sum_{i=1}^{45}(x_i- \\overline{x})^2}{45}}$ \n"
   ]
  },
  {
   "cell_type": "code",
   "execution_count": 132,
   "id": "ac1bed3f-0bf8-494e-8205-dc58bf7a899e",
   "metadata": {},
   "outputs": [
    {
     "data": {
      "text/plain": [
       "4.091770723576896"
      ]
     },
     "execution_count": 132,
     "metadata": {},
     "output_type": "execute_result"
    }
   ],
   "source": [
    "Standard_deviation=np.sqrt(Average_Sum)\n",
    "Standard_deviation"
   ]
  },
  {
   "cell_type": "markdown",
   "id": "3bed96c3-f00b-4bba-ade2-fe98d244768d",
   "metadata": {},
   "source": [
    "- Lets double check!"
   ]
  },
  {
   "cell_type": "code",
   "execution_count": 133,
   "id": "6a3e6c5f-c4c5-4019-8e4e-90f990312c83",
   "metadata": {},
   "outputs": [
    {
     "data": {
      "text/plain": [
       "4.091770723576896"
      ]
     },
     "execution_count": 133,
     "metadata": {},
     "output_type": "execute_result"
    }
   ],
   "source": [
    "np.std(speeds)"
   ]
  },
  {
   "cell_type": "code",
   "execution_count": null,
   "id": "1f44be60-b643-4f78-9f93-9ba49cc8ccb6",
   "metadata": {},
   "outputs": [],
   "source": []
  }
 ],
 "metadata": {
  "kernelspec": {
   "display_name": "Python 3",
   "language": "python",
   "name": "python3"
  },
  "language_info": {
   "codemirror_mode": {
    "name": "ipython",
    "version": 3
   },
   "file_extension": ".py",
   "mimetype": "text/x-python",
   "name": "python",
   "nbconvert_exporter": "python",
   "pygments_lexer": "ipython3",
   "version": "3.9.5"
  }
 },
 "nbformat": 4,
 "nbformat_minor": 5
}
